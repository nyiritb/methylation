{
 "cells": [
  {
   "cell_type": "code",
   "execution_count": 1,
   "id": "c5fadd9d",
   "metadata": {},
   "outputs": [],
   "source": [
    "import pandas as pd\n",
    "df_meta = pd.read_csv(\"hannum_meta.csv\", index_col=0)"
   ]
  },
  {
   "cell_type": "code",
   "execution_count": 2,
   "id": "9c091767",
   "metadata": {},
   "outputs": [],
   "source": [
    "import wget\n",
    "import os\n",
    "import pandas as pd\n",
    "import GEOparse as geo\n",
    "\n",
    "def load_file_as_df(filename):\n",
    "    if 'matrix' in filename:\n",
    "        return geo.get_GEO(geo='GSE40279', destdir='./')\n",
    "\n",
    "    url = f\"https://ftp.ncbi.nlm.nih.gov/geo/series/GSE40nnn/GSE40279/suppl/{filename}\"\n",
    "\n",
    "    if not os.path.exists(filename):\n",
    "        wget.download(url)\n",
    "\n",
    "    df = pd.read_csv(filename, sep=\"\\t\", compression=\"gzip\", index_col=0)\n",
    "    return df\n",
    "\n",
    "df_data = load_file_as_df(\"GSE40279_average_beta.txt.gz\")"
   ]
  },
  {
   "cell_type": "code",
   "execution_count": 3,
   "id": "06a68900",
   "metadata": {},
   "outputs": [
    {
     "data": {
      "text/html": [
       "<div>\n",
       "<style scoped>\n",
       "    .dataframe tbody tr th:only-of-type {\n",
       "        vertical-align: middle;\n",
       "    }\n",
       "\n",
       "    .dataframe tbody tr th {\n",
       "        vertical-align: top;\n",
       "    }\n",
       "\n",
       "    .dataframe thead th {\n",
       "        text-align: right;\n",
       "    }\n",
       "</style>\n",
       "<table border=\"1\" class=\"dataframe\">\n",
       "  <thead>\n",
       "    <tr style=\"text-align: right;\">\n",
       "      <th></th>\n",
       "      <th>name</th>\n",
       "      <th>age</th>\n",
       "      <th>gender</th>\n",
       "      <th>ethnicity</th>\n",
       "    </tr>\n",
       "  </thead>\n",
       "  <tbody>\n",
       "    <tr>\n",
       "      <th>0</th>\n",
       "      <td>X1001</td>\n",
       "      <td>67</td>\n",
       "      <td>F</td>\n",
       "      <td>C</td>\n",
       "    </tr>\n",
       "    <tr>\n",
       "      <th>1</th>\n",
       "      <td>X1002</td>\n",
       "      <td>89</td>\n",
       "      <td>F</td>\n",
       "      <td>C</td>\n",
       "    </tr>\n",
       "    <tr>\n",
       "      <th>2</th>\n",
       "      <td>X1003</td>\n",
       "      <td>66</td>\n",
       "      <td>F</td>\n",
       "      <td>C</td>\n",
       "    </tr>\n",
       "    <tr>\n",
       "      <th>3</th>\n",
       "      <td>X1004</td>\n",
       "      <td>64</td>\n",
       "      <td>F</td>\n",
       "      <td>C</td>\n",
       "    </tr>\n",
       "    <tr>\n",
       "      <th>4</th>\n",
       "      <td>X1005</td>\n",
       "      <td>62</td>\n",
       "      <td>F</td>\n",
       "      <td>C</td>\n",
       "    </tr>\n",
       "  </tbody>\n",
       "</table>\n",
       "</div>"
      ],
      "text/plain": [
       "    name  age gender ethnicity\n",
       "0  X1001   67      F         C\n",
       "1  X1002   89      F         C\n",
       "2  X1003   66      F         C\n",
       "3  X1004   64      F         C\n",
       "4  X1005   62      F         C"
      ]
     },
     "execution_count": 3,
     "metadata": {},
     "output_type": "execute_result"
    }
   ],
   "source": [
    "df_meta.head()"
   ]
  },
  {
   "cell_type": "code",
   "execution_count": 4,
   "id": "36c22a97",
   "metadata": {},
   "outputs": [],
   "source": [
    "# transpose the data and rename ID_REF to name\n",
    "df_data = df_data.T.rename(columns={\"ID_REF\": \"name\"})"
   ]
  },
  {
   "cell_type": "code",
   "execution_count": 5,
   "id": "200f2c11",
   "metadata": {},
   "outputs": [
    {
     "data": {
      "text/html": [
       "<div>\n",
       "<style scoped>\n",
       "    .dataframe tbody tr th:only-of-type {\n",
       "        vertical-align: middle;\n",
       "    }\n",
       "\n",
       "    .dataframe tbody tr th {\n",
       "        vertical-align: top;\n",
       "    }\n",
       "\n",
       "    .dataframe thead th {\n",
       "        text-align: right;\n",
       "    }\n",
       "</style>\n",
       "<table border=\"1\" class=\"dataframe\">\n",
       "  <thead>\n",
       "    <tr style=\"text-align: right;\">\n",
       "      <th>ID_REF</th>\n",
       "      <th>cg13869341</th>\n",
       "      <th>cg14008030</th>\n",
       "      <th>cg12045430</th>\n",
       "      <th>cg20826792</th>\n",
       "      <th>cg00381604</th>\n",
       "      <th>cg20253340</th>\n",
       "      <th>cg21870274</th>\n",
       "      <th>cg03130891</th>\n",
       "      <th>cg24335620</th>\n",
       "      <th>cg16162899</th>\n",
       "      <th>...</th>\n",
       "      <th>cg27124406</th>\n",
       "      <th>cg19565306</th>\n",
       "      <th>cg22012975</th>\n",
       "      <th>cg10353737</th>\n",
       "      <th>cg22531257</th>\n",
       "      <th>cg22662321</th>\n",
       "      <th>cg06996138</th>\n",
       "      <th>cg16817496</th>\n",
       "      <th>cg07660283</th>\n",
       "      <th>cg09226288</th>\n",
       "    </tr>\n",
       "  </thead>\n",
       "  <tbody>\n",
       "    <tr>\n",
       "      <th>X1001</th>\n",
       "      <td>0.849261</td>\n",
       "      <td>0.505916</td>\n",
       "      <td>0.072590</td>\n",
       "      <td>0.186961</td>\n",
       "      <td>0.036803</td>\n",
       "      <td>0.661391</td>\n",
       "      <td>0.777891</td>\n",
       "      <td>0.119538</td>\n",
       "      <td>0.782193</td>\n",
       "      <td>0.905126</td>\n",
       "      <td>...</td>\n",
       "      <td>0.079514</td>\n",
       "      <td>0.003605</td>\n",
       "      <td>0.016267</td>\n",
       "      <td>0.058144</td>\n",
       "      <td>0.016545</td>\n",
       "      <td>0.044135</td>\n",
       "      <td>0.021236</td>\n",
       "      <td>0.291702</td>\n",
       "      <td>0.727581</td>\n",
       "      <td>0.705499</td>\n",
       "    </tr>\n",
       "    <tr>\n",
       "      <th>X1002</th>\n",
       "      <td>0.897434</td>\n",
       "      <td>0.476842</td>\n",
       "      <td>0.079020</td>\n",
       "      <td>0.228201</td>\n",
       "      <td>0.053161</td>\n",
       "      <td>0.545065</td>\n",
       "      <td>0.776407</td>\n",
       "      <td>0.063938</td>\n",
       "      <td>0.787890</td>\n",
       "      <td>0.913628</td>\n",
       "      <td>...</td>\n",
       "      <td>0.080328</td>\n",
       "      <td>0.004043</td>\n",
       "      <td>0.008628</td>\n",
       "      <td>0.044876</td>\n",
       "      <td>0.014927</td>\n",
       "      <td>0.058587</td>\n",
       "      <td>0.019314</td>\n",
       "      <td>0.232008</td>\n",
       "      <td>0.693993</td>\n",
       "      <td>0.716328</td>\n",
       "    </tr>\n",
       "    <tr>\n",
       "      <th>X1003</th>\n",
       "      <td>0.751596</td>\n",
       "      <td>0.487245</td>\n",
       "      <td>0.089230</td>\n",
       "      <td>0.237660</td>\n",
       "      <td>0.045588</td>\n",
       "      <td>0.560305</td>\n",
       "      <td>0.774234</td>\n",
       "      <td>0.113279</td>\n",
       "      <td>0.788896</td>\n",
       "      <td>0.914348</td>\n",
       "      <td>...</td>\n",
       "      <td>0.079417</td>\n",
       "      <td>0.003508</td>\n",
       "      <td>0.004635</td>\n",
       "      <td>0.041357</td>\n",
       "      <td>0.024015</td>\n",
       "      <td>0.058990</td>\n",
       "      <td>0.016854</td>\n",
       "      <td>0.296456</td>\n",
       "      <td>0.703291</td>\n",
       "      <td>0.703523</td>\n",
       "    </tr>\n",
       "    <tr>\n",
       "      <th>X1004</th>\n",
       "      <td>0.871313</td>\n",
       "      <td>0.466692</td>\n",
       "      <td>0.076666</td>\n",
       "      <td>0.253624</td>\n",
       "      <td>0.032824</td>\n",
       "      <td>0.509904</td>\n",
       "      <td>0.772503</td>\n",
       "      <td>0.067163</td>\n",
       "      <td>0.800081</td>\n",
       "      <td>0.882308</td>\n",
       "      <td>...</td>\n",
       "      <td>0.080837</td>\n",
       "      <td>0.005296</td>\n",
       "      <td>0.006407</td>\n",
       "      <td>0.041691</td>\n",
       "      <td>0.030413</td>\n",
       "      <td>0.064237</td>\n",
       "      <td>0.019278</td>\n",
       "      <td>0.270818</td>\n",
       "      <td>0.751772</td>\n",
       "      <td>0.696888</td>\n",
       "    </tr>\n",
       "    <tr>\n",
       "      <th>X1005</th>\n",
       "      <td>0.775703</td>\n",
       "      <td>0.490255</td>\n",
       "      <td>0.079986</td>\n",
       "      <td>0.220404</td>\n",
       "      <td>0.035804</td>\n",
       "      <td>0.549847</td>\n",
       "      <td>0.730345</td>\n",
       "      <td>0.131637</td>\n",
       "      <td>0.759171</td>\n",
       "      <td>0.902783</td>\n",
       "      <td>...</td>\n",
       "      <td>0.084922</td>\n",
       "      <td>0.016451</td>\n",
       "      <td>0.007065</td>\n",
       "      <td>0.060183</td>\n",
       "      <td>0.015760</td>\n",
       "      <td>0.064953</td>\n",
       "      <td>0.016097</td>\n",
       "      <td>0.236963</td>\n",
       "      <td>0.746697</td>\n",
       "      <td>0.693056</td>\n",
       "    </tr>\n",
       "  </tbody>\n",
       "</table>\n",
       "<p>5 rows × 473034 columns</p>\n",
       "</div>"
      ],
      "text/plain": [
       "ID_REF  cg13869341  cg14008030  cg12045430  cg20826792  cg00381604  \\\n",
       "X1001     0.849261    0.505916    0.072590    0.186961    0.036803   \n",
       "X1002     0.897434    0.476842    0.079020    0.228201    0.053161   \n",
       "X1003     0.751596    0.487245    0.089230    0.237660    0.045588   \n",
       "X1004     0.871313    0.466692    0.076666    0.253624    0.032824   \n",
       "X1005     0.775703    0.490255    0.079986    0.220404    0.035804   \n",
       "\n",
       "ID_REF  cg20253340  cg21870274  cg03130891  cg24335620  cg16162899  ...  \\\n",
       "X1001     0.661391    0.777891    0.119538    0.782193    0.905126  ...   \n",
       "X1002     0.545065    0.776407    0.063938    0.787890    0.913628  ...   \n",
       "X1003     0.560305    0.774234    0.113279    0.788896    0.914348  ...   \n",
       "X1004     0.509904    0.772503    0.067163    0.800081    0.882308  ...   \n",
       "X1005     0.549847    0.730345    0.131637    0.759171    0.902783  ...   \n",
       "\n",
       "ID_REF  cg27124406  cg19565306  cg22012975  cg10353737  cg22531257  \\\n",
       "X1001     0.079514    0.003605    0.016267    0.058144    0.016545   \n",
       "X1002     0.080328    0.004043    0.008628    0.044876    0.014927   \n",
       "X1003     0.079417    0.003508    0.004635    0.041357    0.024015   \n",
       "X1004     0.080837    0.005296    0.006407    0.041691    0.030413   \n",
       "X1005     0.084922    0.016451    0.007065    0.060183    0.015760   \n",
       "\n",
       "ID_REF  cg22662321  cg06996138  cg16817496  cg07660283  cg09226288  \n",
       "X1001     0.044135    0.021236    0.291702    0.727581    0.705499  \n",
       "X1002     0.058587    0.019314    0.232008    0.693993    0.716328  \n",
       "X1003     0.058990    0.016854    0.296456    0.703291    0.703523  \n",
       "X1004     0.064237    0.019278    0.270818    0.751772    0.696888  \n",
       "X1005     0.064953    0.016097    0.236963    0.746697    0.693056  \n",
       "\n",
       "[5 rows x 473034 columns]"
      ]
     },
     "execution_count": 5,
     "metadata": {},
     "output_type": "execute_result"
    }
   ],
   "source": [
    "df_data.head()"
   ]
  },
  {
   "cell_type": "code",
   "execution_count": 6,
   "id": "155b1154",
   "metadata": {},
   "outputs": [
    {
     "data": {
      "text/plain": [
       "<AxesSubplot:>"
      ]
     },
     "execution_count": 6,
     "metadata": {},
     "output_type": "execute_result"
    },
    {
     "data": {
      "image/png": "[encoded data removed]",
      "text/plain": [
       "<Figure size 432x288 with 1 Axes>"
      ]
     },
     "metadata": {
      "needs_background": "light"
     },
     "output_type": "display_data"
    }
   ],
   "source": [
    "df_meta['gender'].hist()"
   ]
  },
  {
   "cell_type": "code",
   "execution_count": 7,
   "id": "eb94414b",
   "metadata": {},
   "outputs": [
    {
     "data": {
      "text/plain": [
       "<AxesSubplot:>"
      ]
     },
     "execution_count": 7,
     "metadata": {},
     "output_type": "execute_result"
    },
    {
     "data": {
      "image/png": "[encoded data removed]",
      "text/plain": [
       "<Figure size 432x288 with 1 Axes>"
      ]
     },
     "metadata": {
      "needs_background": "light"
     },
     "output_type": "display_data"
    }
   ],
   "source": [
    "df_meta['ethnicity'].hist()"
   ]
  },
  {
   "cell_type": "code",
   "execution_count": 8,
   "id": "c5b7f04d",
   "metadata": {},
   "outputs": [
    {
     "data": {
      "text/plain": [
       "<AxesSubplot:>"
      ]
     },
     "execution_count": 8,
     "metadata": {},
     "output_type": "execute_result"
    },
    {
     "data": {
      "image/png": "[encoded data removed]",
      "text/plain": [
       "<Figure size 432x288 with 1 Axes>"
      ]
     },
     "metadata": {
      "needs_background": "light"
     },
     "output_type": "display_data"
    }
   ],
   "source": [
    "df_meta['age'].plot(kind='box')"
   ]
  },
  {
   "cell_type": "code",
   "execution_count": 8,
   "id": "3384009f",
   "metadata": {},
   "outputs": [],
   "source": [
    "import numpy as np\n",
    "X, y = df_data.values, df_meta['age']\n",
    "# create a mask to filter out by gender\n",
    "mask_gender = np.array([True if x == ' F' else False for x in df_meta['gender'].values])\n",
    "# create a mask to filter out by ethnicity\n",
    "mask_ethnicity = np.array([True if x == 'H' else False for x in df_meta['ethnicity'].values])\n",
    "# shuffle the datasets\n",
    "from sklearn.utils import shuffle\n",
    "X, y, mask_gender, mask_ethnicity = shuffle(X, y, mask_gender, mask_ethnicity, random_state=0)"
   ]
  },
  {
   "cell_type": "code",
   "execution_count": 9,
   "id": "b2d99279",
   "metadata": {},
   "outputs": [],
   "source": [
    "# create male and female datasets by applying the mask_gender on X and y\n",
    "X_female, y_female = X[mask_gender.astype(bool)], y[mask_gender.astype(bool)]\n",
    "X_male, y_male = X[np.logical_not(mask_gender.astype(bool))], y[np.logical_not(mask_gender.astype(bool))]\n",
    "X_hispanic, y_hispanic = X[mask_ethnicity.astype(bool)], y[mask_ethnicity.astype(bool)]\n",
    "X_non_hispanic, y_non_hispanic = X[np.logical_not(mask_ethnicity.astype(bool))], y[np.logical_not(mask_ethnicity.astype(bool))]"
   ]
  },
  {
   "cell_type": "code",
   "execution_count": 10,
   "id": "24596c51",
   "metadata": {},
   "outputs": [
    {
     "name": "stdout",
     "output_type": "stream",
     "text": [
      "(338, 473034)\n",
      "(318, 473034)\n",
      "(230, 473034)\n",
      "(426, 473034)\n"
     ]
    }
   ],
   "source": [
    "print(X_female.shape)\n",
    "print(X_male.shape)\n",
    "assert(X.shape[0] == X_female.shape[0]+X_male.shape[0])\n",
    "print(X_hispanic.shape)\n",
    "print(X_non_hispanic.shape)\n",
    "assert(X.shape[0] == X_hispanic.shape[0]+X_non_hispanic.shape[0])"
   ]
  },
  {
   "cell_type": "code",
   "execution_count": 43,
   "id": "1c53b088",
   "metadata": {},
   "outputs": [],
   "source": [
    "X_diff = abs(X-X.mean(axis=0))"
   ]
  },
  {
   "cell_type": "code",
   "execution_count": 15,
   "id": "1e1894ba",
   "metadata": {},
   "outputs": [
    {
     "data": {
      "text/plain": [
       "array([[0.03509579, 0.05319805, 0.00499955, ..., 0.00545188, 0.03018119,\n",
       "        0.10865558],\n",
       "       [0.01278621, 0.00143635, 0.03675582, ..., 0.00206888, 0.02041741,\n",
       "        0.02325492],\n",
       "       [0.03299221, 0.04342475, 0.03475601, ..., 0.06766508, 0.01025029,\n",
       "        0.01552348],\n",
       "       ...,\n",
       "       [0.04277409, 0.03623185, 0.01811438, ..., 0.06674302, 0.04206441,\n",
       "        0.01297662],\n",
       "       [0.06298099, 0.04029645, 0.01758758, ..., 0.05241522, 0.03121011,\n",
       "        0.02872152],\n",
       "       [0.06161741, 0.03463245, 0.00056961, ..., 0.04055172, 0.03316209,\n",
       "        0.01001478]])"
      ]
     },
     "execution_count": 15,
     "metadata": {},
     "output_type": "execute_result"
    }
   ],
   "source": [
    "X_diff"
   ]
  },
  {
   "cell_type": "code",
   "execution_count": 11,
   "id": "1aa318ad",
   "metadata": {},
   "outputs": [
    {
     "name": "stdout",
     "output_type": "stream",
     "text": [
      "0.8134543763298786\n"
     ]
    },
    {
     "data": {
      "text/plain": [
       "((656, 400), (656,))"
      ]
     },
     "execution_count": 11,
     "metadata": {},
     "output_type": "execute_result"
    }
   ],
   "source": [
    "# use PCA to reduce the dimensionality of the data\n",
    "from sklearn.decomposition import PCA\n",
    "pca = PCA(n_components=400)\n",
    "pca.fit(X)\n",
    "print(sum(pca.explained_variance_ratio_))\n",
    "X_pca = pca.transform(X)\n",
    "X_pca.shape, y.shape\n"
   ]
  },
  {
   "cell_type": "code",
   "execution_count": 30,
   "id": "0ac5e46c",
   "metadata": {},
   "outputs": [
    {
     "name": "stderr",
     "output_type": "stream",
     "text": [
      "c:\\Users\\nyiri\\anaconda3\\lib\\site-packages\\sklearn\\decomposition\\_fastica.py:488: FutureWarning: From version 1.3 whiten='unit-variance' will be used by default.\n",
      "  warnings.warn(\n"
     ]
    },
    {
     "ename": "MemoryError",
     "evalue": "Unable to allocate 2.31 GiB for an array with shape (473034, 656) and data type float64",
     "output_type": "error",
     "traceback": [
      "\u001b[1;31m---------------------------------------------------------------------------\u001b[0m",
      "\u001b[1;31mMemoryError\u001b[0m                               Traceback (most recent call last)",
      "\u001b[1;32m~\\AppData\\Local\\Temp\\ipykernel_14992\\1521796561.py\u001b[0m in \u001b[0;36m<module>\u001b[1;34m\u001b[0m\n\u001b[0;32m      1\u001b[0m \u001b[1;32mfrom\u001b[0m \u001b[0msklearn\u001b[0m\u001b[1;33m.\u001b[0m\u001b[0mdecomposition\u001b[0m \u001b[1;32mimport\u001b[0m \u001b[0mFastICA\u001b[0m\u001b[1;33m\u001b[0m\u001b[1;33m\u001b[0m\u001b[0m\n\u001b[0;32m      2\u001b[0m \u001b[0mica\u001b[0m \u001b[1;33m=\u001b[0m \u001b[0mFastICA\u001b[0m\u001b[1;33m(\u001b[0m\u001b[0mn_components\u001b[0m\u001b[1;33m=\u001b[0m\u001b[1;36m400\u001b[0m\u001b[1;33m,\u001b[0m \u001b[0mrandom_state\u001b[0m\u001b[1;33m=\u001b[0m\u001b[1;36m0\u001b[0m\u001b[1;33m)\u001b[0m\u001b[1;33m\u001b[0m\u001b[1;33m\u001b[0m\u001b[0m\n\u001b[1;32m----> 3\u001b[1;33m \u001b[0mica\u001b[0m\u001b[1;33m.\u001b[0m\u001b[0mfit\u001b[0m\u001b[1;33m(\u001b[0m\u001b[0mX\u001b[0m\u001b[1;33m)\u001b[0m\u001b[1;33m\u001b[0m\u001b[1;33m\u001b[0m\u001b[0m\n\u001b[0m\u001b[0;32m      4\u001b[0m \u001b[0mX_ica\u001b[0m \u001b[1;33m=\u001b[0m \u001b[0mica\u001b[0m\u001b[1;33m.\u001b[0m\u001b[0mtransform\u001b[0m\u001b[1;33m(\u001b[0m\u001b[0mX\u001b[0m\u001b[1;33m)\u001b[0m\u001b[1;33m\u001b[0m\u001b[1;33m\u001b[0m\u001b[0m\n\u001b[0;32m      5\u001b[0m \u001b[0mX_ica\u001b[0m\u001b[1;33m.\u001b[0m\u001b[0mshape\u001b[0m\u001b[1;33m,\u001b[0m \u001b[0my\u001b[0m\u001b[1;33m.\u001b[0m\u001b[0mshape\u001b[0m\u001b[1;33m\u001b[0m\u001b[1;33m\u001b[0m\u001b[0m\n",
      "\u001b[1;32mc:\\Users\\nyiri\\anaconda3\\lib\\site-packages\\sklearn\\decomposition\\_fastica.py\u001b[0m in \u001b[0;36mfit\u001b[1;34m(self, X, y)\u001b[0m\n\u001b[0;32m    671\u001b[0m             \u001b[0mReturns\u001b[0m \u001b[0mthe\u001b[0m \u001b[0minstance\u001b[0m \u001b[0mitself\u001b[0m\u001b[1;33m.\u001b[0m\u001b[1;33m\u001b[0m\u001b[1;33m\u001b[0m\u001b[0m\n\u001b[0;32m    672\u001b[0m         \"\"\"\n\u001b[1;32m--> 673\u001b[1;33m         \u001b[0mself\u001b[0m\u001b[1;33m.\u001b[0m\u001b[0m_fit\u001b[0m\u001b[1;33m(\u001b[0m\u001b[0mX\u001b[0m\u001b[1;33m,\u001b[0m \u001b[0mcompute_sources\u001b[0m\u001b[1;33m=\u001b[0m\u001b[1;32mFalse\u001b[0m\u001b[1;33m)\u001b[0m\u001b[1;33m\u001b[0m\u001b[1;33m\u001b[0m\u001b[0m\n\u001b[0m\u001b[0;32m    674\u001b[0m         \u001b[1;32mreturn\u001b[0m \u001b[0mself\u001b[0m\u001b[1;33m\u001b[0m\u001b[1;33m\u001b[0m\u001b[0m\n\u001b[0;32m    675\u001b[0m \u001b[1;33m\u001b[0m\u001b[0m\n",
      "\u001b[1;32mc:\\Users\\nyiri\\anaconda3\\lib\\site-packages\\sklearn\\decomposition\\_fastica.py\u001b[0m in \u001b[0;36m_fit\u001b[1;34m(self, X, compute_sources)\u001b[0m\n\u001b[0;32m    552\u001b[0m \u001b[1;33m\u001b[0m\u001b[0m\n\u001b[0;32m    553\u001b[0m             \u001b[1;31m# Whitening and preprocessing by PCA\u001b[0m\u001b[1;33m\u001b[0m\u001b[1;33m\u001b[0m\u001b[1;33m\u001b[0m\u001b[0m\n\u001b[1;32m--> 554\u001b[1;33m             \u001b[0mu\u001b[0m\u001b[1;33m,\u001b[0m \u001b[0md\u001b[0m\u001b[1;33m,\u001b[0m \u001b[0m_\u001b[0m \u001b[1;33m=\u001b[0m \u001b[0mlinalg\u001b[0m\u001b[1;33m.\u001b[0m\u001b[0msvd\u001b[0m\u001b[1;33m(\u001b[0m\u001b[0mXT\u001b[0m\u001b[1;33m,\u001b[0m \u001b[0mfull_matrices\u001b[0m\u001b[1;33m=\u001b[0m\u001b[1;32mFalse\u001b[0m\u001b[1;33m,\u001b[0m \u001b[0mcheck_finite\u001b[0m\u001b[1;33m=\u001b[0m\u001b[1;32mFalse\u001b[0m\u001b[1;33m)\u001b[0m\u001b[1;33m\u001b[0m\u001b[1;33m\u001b[0m\u001b[0m\n\u001b[0m\u001b[0;32m    555\u001b[0m \u001b[1;33m\u001b[0m\u001b[0m\n\u001b[0;32m    556\u001b[0m             \u001b[1;32mdel\u001b[0m \u001b[0m_\u001b[0m\u001b[1;33m\u001b[0m\u001b[1;33m\u001b[0m\u001b[0m\n",
      "\u001b[1;32mc:\\Users\\nyiri\\anaconda3\\lib\\site-packages\\scipy\\linalg\\decomp_svd.py\u001b[0m in \u001b[0;36msvd\u001b[1;34m(a, full_matrices, compute_uv, overwrite_a, check_finite, lapack_driver)\u001b[0m\n\u001b[0;32m    125\u001b[0m \u001b[1;33m\u001b[0m\u001b[0m\n\u001b[0;32m    126\u001b[0m     \u001b[1;31m# perform decomposition\u001b[0m\u001b[1;33m\u001b[0m\u001b[1;33m\u001b[0m\u001b[1;33m\u001b[0m\u001b[0m\n\u001b[1;32m--> 127\u001b[1;33m     u, s, v, info = gesXd(a1, compute_uv=compute_uv, lwork=lwork,\n\u001b[0m\u001b[0;32m    128\u001b[0m                           full_matrices=full_matrices, overwrite_a=overwrite_a)\n\u001b[0;32m    129\u001b[0m \u001b[1;33m\u001b[0m\u001b[0m\n",
      "\u001b[1;31mMemoryError\u001b[0m: Unable to allocate 2.31 GiB for an array with shape (473034, 656) and data type float64"
     ]
    }
   ],
   "source": [
    "from sklearn.decomposition import FastICA\n",
    "ica = FastICA(n_components=400, random_state=0)\n",
    "ica.fit(X)\n",
    "X_ica = ica.transform(X)\n",
    "X_ica.shape, y.shape"
   ]
  },
  {
   "cell_type": "code",
   "execution_count": 46,
   "id": "e004fa68",
   "metadata": {},
   "outputs": [],
   "source": [
    "from sklearn.linear_model import LinearRegression\n",
    "from sklearn.linear_model import Ridge\n",
    "from sklearn.linear_model import Lasso\n",
    "from sklearn.linear_model import ElasticNet\n",
    "from sklearn.svm import SVR\n",
    "from sklearn.metrics import mean_absolute_error, mean_squared_error, r2_score\n",
    "from sklearn.ensemble import RandomForestRegressor\n",
    "from sklearn.model_selection import cross_val_score\n",
    "from pytorch_tabnet.tab_model import TabNetRegressor\n",
    "from xgboost import XGBRegressor\n",
    "from sklearn.model_selection import train_test_split\n",
    "\n",
    "# lasso: small number of significant features (sparse)\n",
    "# ridge: many with similar significance\n",
    "def try_algos(X, y):\n",
    "    for model in (LinearRegression(),Ridge(),Lasso(),ElasticNet()):\n",
    "        score = cross_val_score(model, X, y, cv=5, scoring='neg_mean_absolute_error').mean()\n",
    "        print(f'{model.__class__} score: {score}')\n",
    "\n",
    "def try_slow_algos(X, y):\n",
    "    for model in (SVR(), RandomForestRegressor(), XGBRegressor()):\n",
    "        score = cross_val_score(model, X, y, cv=5, scoring='neg_mean_absolute_error').mean()\n",
    "        print(f'{model.__class__} score: {score}')\n",
    "\n",
    "def try_tabnet(X, y):\n",
    "    model = TabNetRegressor()\n",
    "    X = X.astype(np.float32)\n",
    "    y = y.astype(np.float32)\n",
    "    y = np.array(y).reshape(-1, 1)\n",
    "    X_train, X_test, y_train, y_test = train_test_split(X, y, test_size=0.2, random_state=0)\n",
    "    model.fit(X_train, y_train, eval_set=[(X_test, y_test)], eval_name=['val'], eval_metric=['mae'], max_epochs=100, patience=20, batch_size=256, virtual_batch_size=128, num_workers=0, drop_last=False)\n",
    "    y_pred = model.predict(X_test)\n",
    "    print(f'{model.__class__} score: {mean_absolute_error(y_test, y_pred)}')"
   ]
  },
  {
   "cell_type": "code",
   "execution_count": 16,
   "id": "b05aa4c2",
   "metadata": {},
   "outputs": [
    {
     "name": "stdout",
     "output_type": "stream",
     "text": [
      "<class 'sklearn.linear_model._base.LinearRegression'> score: -8.325895947155487\n",
      "<class 'sklearn.linear_model._ridge.Ridge'> score: -8.329538037930693\n",
      "<class 'sklearn.linear_model._coordinate_descent.Lasso'> score: -11.938908576295653\n",
      "<class 'sklearn.linear_model._coordinate_descent.ElasticNet'> score: -11.933418232754981\n"
     ]
    }
   ],
   "source": [
    "try_algos(X_diff, y)"
   ]
  },
  {
   "cell_type": "code",
   "execution_count": 15,
   "id": "9267ba00",
   "metadata": {},
   "outputs": [
    {
     "name": "stdout",
     "output_type": "stream",
     "text": [
      "<class 'sklearn.linear_model._base.LinearRegression'> score: -4.956699034892571\n",
      "<class 'sklearn.linear_model._ridge.Ridge'> score: -4.958832956275294\n",
      "<class 'sklearn.linear_model._coordinate_descent.Lasso'> score: -9.645338638060547\n",
      "<class 'sklearn.linear_model._coordinate_descent.ElasticNet'> score: -10.36150822124019\n"
     ]
    }
   ],
   "source": [
    "try_algos(X, y)"
   ]
  },
  {
   "cell_type": "code",
   "execution_count": 14,
   "id": "89577589",
   "metadata": {},
   "outputs": [
    {
     "name": "stdout",
     "output_type": "stream",
     "text": [
      "<class 'sklearn.linear_model._base.LinearRegression'> score: -14.332303057958583\n",
      "<class 'sklearn.linear_model._ridge.Ridge'> score: -12.958528168490565\n",
      "<class 'sklearn.linear_model._coordinate_descent.Lasso'> score: -5.955568736350134\n",
      "<class 'sklearn.linear_model._coordinate_descent.ElasticNet'> score: -5.423334654732924\n"
     ]
    }
   ],
   "source": [
    "try_algos(X_pca, y)"
   ]
  },
  {
   "cell_type": "code",
   "execution_count": 53,
   "id": "79097e42",
   "metadata": {},
   "outputs": [
    {
     "name": "stdout",
     "output_type": "stream",
     "text": [
      "<class 'sklearn.linear_model._base.LinearRegression'> score: -6.640007356904356\n",
      "<class 'sklearn.linear_model._ridge.Ridge'> score: -7.866463238075053\n",
      "<class 'sklearn.linear_model._coordinate_descent.Lasso'> score: -11.938908576295653\n",
      "<class 'sklearn.linear_model._coordinate_descent.ElasticNet'> score: -11.938908576295653\n"
     ]
    }
   ],
   "source": [
    "try_algos(X_ica, y)"
   ]
  },
  {
   "cell_type": "code",
   "execution_count": 32,
   "id": "6ca3cca8",
   "metadata": {},
   "outputs": [
    {
     "name": "stdout",
     "output_type": "stream",
     "text": [
      "<class 'sklearn.svm._classes.SVR'> score: -9.6436283219224\n",
      "<class 'sklearn.ensemble._forest.RandomForestRegressor'> score: -8.080657066851723\n",
      "<class 'xgboost.sklearn.XGBRegressor'> score: -7.7854422675385795\n"
     ]
    }
   ],
   "source": [
    "try_slow_algos(X_pca, y)"
   ]
  },
  {
   "cell_type": "code",
   "execution_count": 49,
   "id": "72bee728",
   "metadata": {},
   "outputs": [
    {
     "name": "stderr",
     "output_type": "stream",
     "text": [
      "c:\\Users\\nyiri\\anaconda3\\lib\\site-packages\\pytorch_tabnet\\abstract_model.py:75: UserWarning: Device used : cuda\n",
      "  warnings.warn(f\"Device used : {self.device}\")\n"
     ]
    },
    {
     "name": "stdout",
     "output_type": "stream",
     "text": [
      "epoch 0  | loss: 4256.92765| val_mae: 62.439659118652344|  0:00:00s\n",
      "epoch 1  | loss: 4149.31253| val_mae: 61.95589065551758|  0:00:00s\n",
      "epoch 2  | loss: 4032.58236| val_mae: 61.34585952758789|  0:00:00s\n",
      "epoch 3  | loss: 3917.7336| val_mae: 60.638919830322266|  0:00:00s\n",
      "epoch 4  | loss: 3787.57771| val_mae: 59.43330001831055|  0:00:00s\n",
      "epoch 5  | loss: 3625.27122| val_mae: 58.11064147949219|  0:00:01s\n",
      "epoch 6  | loss: 3463.16565| val_mae: 56.77322006225586|  0:00:01s\n",
      "epoch 7  | loss: 3275.53798| val_mae: 55.10712814331055|  0:00:01s\n",
      "epoch 8  | loss: 3085.38507| val_mae: 53.16558074951172|  0:00:01s\n",
      "epoch 9  | loss: 2902.55174| val_mae: 50.626678466796875|  0:00:01s\n",
      "epoch 10 | loss: 2652.87282| val_mae: 47.871158599853516|  0:00:01s\n",
      "epoch 11 | loss: 2391.59312| val_mae: 44.97758865356445|  0:00:02s\n",
      "epoch 12 | loss: 2116.19413| val_mae: 41.924381256103516|  0:00:02s\n",
      "epoch 13 | loss: 1836.0746| val_mae: 38.629058837890625|  0:00:02s\n",
      "epoch 14 | loss: 1568.25937| val_mae: 35.99821090698242|  0:00:02s\n",
      "epoch 15 | loss: 1278.38363| val_mae: 32.497520446777344|  0:00:02s\n",
      "epoch 16 | loss: 1027.45939| val_mae: 29.218679428100586|  0:00:02s\n",
      "epoch 17 | loss: 806.95087| val_mae: 26.830530166625977|  0:00:02s\n",
      "epoch 18 | loss: 585.88169| val_mae: 24.818950653076172|  0:00:03s\n",
      "epoch 19 | loss: 433.12695| val_mae: 23.528419494628906|  0:00:03s\n",
      "epoch 20 | loss: 312.27088| val_mae: 21.572019577026367|  0:00:03s\n",
      "epoch 21 | loss: 244.70839| val_mae: 21.088010787963867|  0:00:03s\n",
      "epoch 22 | loss: 218.3307| val_mae: 20.407949447631836|  0:00:03s\n",
      "epoch 23 | loss: 217.25557| val_mae: 20.41482925415039|  0:00:03s\n",
      "epoch 24 | loss: 213.53851| val_mae: 19.98130989074707|  0:00:04s\n",
      "epoch 25 | loss: 196.28659| val_mae: 20.492319107055664|  0:00:04s\n",
      "epoch 26 | loss: 190.54241| val_mae: 20.418859481811523|  0:00:04s\n",
      "epoch 27 | loss: 190.35365| val_mae: 19.66231918334961|  0:00:04s\n",
      "epoch 28 | loss: 191.25209| val_mae: 18.434499740600586|  0:00:04s\n",
      "epoch 29 | loss: 187.96282| val_mae: 16.952350616455078|  0:00:04s\n",
      "epoch 30 | loss: 191.80581| val_mae: 16.129680633544922|  0:00:04s\n",
      "epoch 31 | loss: 187.10076| val_mae: 15.92156982421875|  0:00:05s\n",
      "epoch 32 | loss: 184.75208| val_mae: 16.046430587768555|  0:00:05s\n",
      "epoch 33 | loss: 177.37227| val_mae: 16.005250930786133|  0:00:05s\n",
      "epoch 34 | loss: 175.58214| val_mae: 15.908499717712402|  0:00:05s\n",
      "epoch 35 | loss: 178.53621| val_mae: 15.295680046081543|  0:00:05s\n",
      "epoch 36 | loss: 184.81339| val_mae: 14.774800300598145|  0:00:05s\n",
      "epoch 37 | loss: 177.18036| val_mae: 14.695540428161621|  0:00:06s\n",
      "epoch 38 | loss: 168.31501| val_mae: 14.495559692382812|  0:00:06s\n",
      "epoch 39 | loss: 160.66322| val_mae: 14.278300285339355|  0:00:06s\n",
      "epoch 40 | loss: 166.97237| val_mae: 13.650259971618652|  0:00:06s\n",
      "epoch 41 | loss: 165.74459| val_mae: 13.186269760131836|  0:00:06s\n",
      "epoch 42 | loss: 169.01721| val_mae: 13.364330291748047|  0:00:06s\n",
      "epoch 43 | loss: 165.54315| val_mae: 13.494640350341797|  0:00:07s\n",
      "epoch 44 | loss: 165.98326| val_mae: 13.760809898376465|  0:00:07s\n",
      "epoch 45 | loss: 164.0085| val_mae: 13.735969543457031|  0:00:07s\n",
      "epoch 46 | loss: 165.68475| val_mae: 13.457119941711426|  0:00:07s\n",
      "epoch 47 | loss: 166.47283| val_mae: 13.593469619750977|  0:00:07s\n",
      "epoch 48 | loss: 167.26551| val_mae: 13.625149726867676|  0:00:07s\n",
      "epoch 49 | loss: 167.28143| val_mae: 13.311790466308594|  0:00:08s\n",
      "epoch 50 | loss: 163.8227| val_mae: 13.144570350646973|  0:00:08s\n",
      "epoch 51 | loss: 152.48544| val_mae: 13.338290214538574|  0:00:08s\n",
      "epoch 52 | loss: 157.05301| val_mae: 13.427579879760742|  0:00:08s\n",
      "epoch 53 | loss: 155.66855| val_mae: 13.817410469055176|  0:00:08s\n",
      "epoch 54 | loss: 154.4763| val_mae: 13.489179611206055|  0:00:08s\n",
      "epoch 55 | loss: 151.52875| val_mae: 13.505970001220703|  0:00:08s\n",
      "epoch 56 | loss: 158.09491| val_mae: 13.881460189819336|  0:00:09s\n",
      "epoch 57 | loss: 156.21509| val_mae: 13.79794979095459|  0:00:09s\n",
      "epoch 58 | loss: 141.91001| val_mae: 13.605839729309082|  0:00:09s\n",
      "epoch 59 | loss: 139.7357| val_mae: 13.410070419311523|  0:00:09s\n",
      "epoch 60 | loss: 137.18149| val_mae: 13.836000442504883|  0:00:09s\n",
      "epoch 61 | loss: 147.10171| val_mae: 14.132120132446289|  0:00:09s\n",
      "epoch 62 | loss: 136.089 | val_mae: 14.13131046295166|  0:00:10s\n",
      "epoch 63 | loss: 127.14897| val_mae: 14.212220191955566|  0:00:10s\n",
      "epoch 64 | loss: 140.17314| val_mae: 14.323060035705566|  0:00:10s\n",
      "epoch 65 | loss: 132.01301| val_mae: 14.358019828796387|  0:00:10s\n",
      "epoch 66 | loss: 131.54555| val_mae: 14.598560333251953|  0:00:10s\n",
      "epoch 67 | loss: 126.04701| val_mae: 14.571149826049805|  0:00:10s\n",
      "epoch 68 | loss: 132.89486| val_mae: 14.391690254211426|  0:00:10s\n",
      "epoch 69 | loss: 133.54388| val_mae: 14.096500396728516|  0:00:11s\n",
      "epoch 70 | loss: 123.91674| val_mae: 14.060879707336426|  0:00:11s\n",
      "\n",
      "Early stopping occurred at epoch 70 with best_epoch = 50 and best_val_mae = 13.144570350646973\n",
      "<class 'pytorch_tabnet.tab_model.TabNetRegressor'> score: 13.144569396972656\n"
     ]
    },
    {
     "name": "stderr",
     "output_type": "stream",
     "text": [
      "c:\\Users\\nyiri\\anaconda3\\lib\\site-packages\\pytorch_tabnet\\callbacks.py:172: UserWarning: Best weights from best epoch are automatically used!\n",
      "  warnings.warn(wrn_msg)\n"
     ]
    }
   ],
   "source": [
    "try_tabnet(X_pca, y)"
   ]
  },
  {
   "cell_type": "code",
   "execution_count": 57,
   "id": "0bb2d103",
   "metadata": {},
   "outputs": [
    {
     "name": "stdout",
     "output_type": "stream",
     "text": [
      "<class 'sklearn.linear_model._base.LinearRegression'> score: -5.889174574769078\n",
      "<class 'sklearn.linear_model._ridge.Ridge'> score: -5.891804343641816\n",
      "<class 'sklearn.linear_model._coordinate_descent.Lasso'> score: -8.244990652234828\n",
      "<class 'sklearn.linear_model._coordinate_descent.ElasticNet'> score: -8.587478495925307\n"
     ]
    }
   ],
   "source": [
    "try_algos(X_hispanic, y_hispanic)"
   ]
  },
  {
   "cell_type": "code",
   "execution_count": 58,
   "id": "f5877b5f",
   "metadata": {},
   "outputs": [
    {
     "name": "stdout",
     "output_type": "stream",
     "text": [
      "<class 'sklearn.linear_model._base.LinearRegression'> score: -5.498500924966136\n",
      "<class 'sklearn.linear_model._ridge.Ridge'> score: -5.500734390450178\n",
      "<class 'sklearn.linear_model._coordinate_descent.Lasso'> score: -9.995304197446256\n",
      "<class 'sklearn.linear_model._coordinate_descent.ElasticNet'> score: -10.346673224113125\n"
     ]
    }
   ],
   "source": [
    "try_algos(X_non_hispanic, y_non_hispanic)"
   ]
  },
  {
   "cell_type": "code",
   "execution_count": null,
   "id": "4b947d6e",
   "metadata": {},
   "outputs": [],
   "source": []
  }
 ],
 "metadata": {
  "kernelspec": {
   "display_name": "Python 3.8.13 ('base')",
   "language": "python",
   "name": "python3"
  },
  "language_info": {
   "codemirror_mode": {
    "name": "ipython",
    "version": 3
   },
   "file_extension": ".py",
   "mimetype": "text/x-python",
   "name": "python",
   "nbconvert_exporter": "python",
   "pygments_lexer": "ipython3",
   "version": "3.8.13"
  },
  "vscode": {
   "interpreter": {
    "hash": "dfdbd36146e375d5bcb8f9b317988285038a3771973a9336cd3003a72f79005b"
   }
  }
 },
 "nbformat": 4,
 "nbformat_minor": 5
}
