{
 "cells": [
  {
   "cell_type": "code",
   "execution_count": 1,
   "id": "c5fadd9d",
   "metadata": {},
   "outputs": [],
   "source": [
    "import pandas as pd\n",
    "df_meta = pd.read_csv(\"hannum_meta.csv\", index_col=0)"
   ]
  },
  {
   "cell_type": "code",
   "execution_count": 2,
   "id": "9c091767",
   "metadata": {},
   "outputs": [],
   "source": [
    "import wget\n",
    "import os\n",
    "import pandas as pd\n",
    "import GEOparse as geo\n",
    "\n",
    "def load_file_as_df(filename):\n",
    "    if 'matrix' in filename:\n",
    "        return geo.get_GEO(geo='GSE40279', destdir='./')\n",
    "\n",
    "    url = f\"https://ftp.ncbi.nlm.nih.gov/geo/series/GSE40nnn/GSE40279/suppl/{filename}\"\n",
    "\n",
    "    if not os.path.exists(filename):\n",
    "        wget.download(url)\n",
    "\n",
    "    df = pd.read_csv(filename, sep=\"\\t\", compression=\"gzip\", index_col=0)\n",
    "    return df\n",
    "\n",
    "df_data = load_file_as_df(\"GSE40279_average_beta.txt.gz\")"
   ]
  },
  {
   "cell_type": "code",
   "execution_count": 3,
   "id": "06a68900",
   "metadata": {},
   "outputs": [
    {
     "data": {
      "text/html": [
       "<div>\n",
       "<style scoped>\n",
       "    .dataframe tbody tr th:only-of-type {\n",
       "        vertical-align: middle;\n",
       "    }\n",
       "\n",
       "    .dataframe tbody tr th {\n",
       "        vertical-align: top;\n",
       "    }\n",
       "\n",
       "    .dataframe thead th {\n",
       "        text-align: right;\n",
       "    }\n",
       "</style>\n",
       "<table border=\"1\" class=\"dataframe\">\n",
       "  <thead>\n",
       "    <tr style=\"text-align: right;\">\n",
       "      <th></th>\n",
       "      <th>name</th>\n",
       "      <th>age</th>\n",
       "      <th>gender</th>\n",
       "      <th>ethnicity</th>\n",
       "    </tr>\n",
       "  </thead>\n",
       "  <tbody>\n",
       "    <tr>\n",
       "      <th>0</th>\n",
       "      <td>X1001</td>\n",
       "      <td>67</td>\n",
       "      <td>F</td>\n",
       "      <td>C</td>\n",
       "    </tr>\n",
       "    <tr>\n",
       "      <th>1</th>\n",
       "      <td>X1002</td>\n",
       "      <td>89</td>\n",
       "      <td>F</td>\n",
       "      <td>C</td>\n",
       "    </tr>\n",
       "    <tr>\n",
       "      <th>2</th>\n",
       "      <td>X1003</td>\n",
       "      <td>66</td>\n",
       "      <td>F</td>\n",
       "      <td>C</td>\n",
       "    </tr>\n",
       "    <tr>\n",
       "      <th>3</th>\n",
       "      <td>X1004</td>\n",
       "      <td>64</td>\n",
       "      <td>F</td>\n",
       "      <td>C</td>\n",
       "    </tr>\n",
       "    <tr>\n",
       "      <th>4</th>\n",
       "      <td>X1005</td>\n",
       "      <td>62</td>\n",
       "      <td>F</td>\n",
       "      <td>C</td>\n",
       "    </tr>\n",
       "  </tbody>\n",
       "</table>\n",
       "</div>"
      ],
      "text/plain": [
       "    name  age gender ethnicity\n",
       "0  X1001   67      F         C\n",
       "1  X1002   89      F         C\n",
       "2  X1003   66      F         C\n",
       "3  X1004   64      F         C\n",
       "4  X1005   62      F         C"
      ]
     },
     "execution_count": 3,
     "metadata": {},
     "output_type": "execute_result"
    }
   ],
   "source": [
    "df_meta.head()"
   ]
  },
  {
   "cell_type": "code",
   "execution_count": 4,
   "id": "36c22a97",
   "metadata": {},
   "outputs": [],
   "source": [
    "# transpose the data and rename ID_REF to name\n",
    "df_data = df_data.T.rename(columns={\"ID_REF\": \"name\"})"
   ]
  },
  {
   "cell_type": "code",
   "execution_count": 5,
   "id": "200f2c11",
   "metadata": {},
   "outputs": [
    {
     "data": {
      "text/html": [
       "<div>\n",
       "<style scoped>\n",
       "    .dataframe tbody tr th:only-of-type {\n",
       "        vertical-align: middle;\n",
       "    }\n",
       "\n",
       "    .dataframe tbody tr th {\n",
       "        vertical-align: top;\n",
       "    }\n",
       "\n",
       "    .dataframe thead th {\n",
       "        text-align: right;\n",
       "    }\n",
       "</style>\n",
       "<table border=\"1\" class=\"dataframe\">\n",
       "  <thead>\n",
       "    <tr style=\"text-align: right;\">\n",
       "      <th>ID_REF</th>\n",
       "      <th>cg13869341</th>\n",
       "      <th>cg14008030</th>\n",
       "      <th>cg12045430</th>\n",
       "      <th>cg20826792</th>\n",
       "      <th>cg00381604</th>\n",
       "      <th>cg20253340</th>\n",
       "      <th>cg21870274</th>\n",
       "      <th>cg03130891</th>\n",
       "      <th>cg24335620</th>\n",
       "      <th>cg16162899</th>\n",
       "      <th>...</th>\n",
       "      <th>cg27124406</th>\n",
       "      <th>cg19565306</th>\n",
       "      <th>cg22012975</th>\n",
       "      <th>cg10353737</th>\n",
       "      <th>cg22531257</th>\n",
       "      <th>cg22662321</th>\n",
       "      <th>cg06996138</th>\n",
       "      <th>cg16817496</th>\n",
       "      <th>cg07660283</th>\n",
       "      <th>cg09226288</th>\n",
       "    </tr>\n",
       "  </thead>\n",
       "  <tbody>\n",
       "    <tr>\n",
       "      <th>X1001</th>\n",
       "      <td>0.849261</td>\n",
       "      <td>0.505916</td>\n",
       "      <td>0.072590</td>\n",
       "      <td>0.186961</td>\n",
       "      <td>0.036803</td>\n",
       "      <td>0.661391</td>\n",
       "      <td>0.777891</td>\n",
       "      <td>0.119538</td>\n",
       "      <td>0.782193</td>\n",
       "      <td>0.905126</td>\n",
       "      <td>...</td>\n",
       "      <td>0.079514</td>\n",
       "      <td>0.003605</td>\n",
       "      <td>0.016267</td>\n",
       "      <td>0.058144</td>\n",
       "      <td>0.016545</td>\n",
       "      <td>0.044135</td>\n",
       "      <td>0.021236</td>\n",
       "      <td>0.291702</td>\n",
       "      <td>0.727581</td>\n",
       "      <td>0.705499</td>\n",
       "    </tr>\n",
       "    <tr>\n",
       "      <th>X1002</th>\n",
       "      <td>0.897434</td>\n",
       "      <td>0.476842</td>\n",
       "      <td>0.079020</td>\n",
       "      <td>0.228201</td>\n",
       "      <td>0.053161</td>\n",
       "      <td>0.545065</td>\n",
       "      <td>0.776407</td>\n",
       "      <td>0.063938</td>\n",
       "      <td>0.787890</td>\n",
       "      <td>0.913628</td>\n",
       "      <td>...</td>\n",
       "      <td>0.080328</td>\n",
       "      <td>0.004043</td>\n",
       "      <td>0.008628</td>\n",
       "      <td>0.044876</td>\n",
       "      <td>0.014927</td>\n",
       "      <td>0.058587</td>\n",
       "      <td>0.019314</td>\n",
       "      <td>0.232008</td>\n",
       "      <td>0.693993</td>\n",
       "      <td>0.716328</td>\n",
       "    </tr>\n",
       "    <tr>\n",
       "      <th>X1003</th>\n",
       "      <td>0.751596</td>\n",
       "      <td>0.487245</td>\n",
       "      <td>0.089230</td>\n",
       "      <td>0.237660</td>\n",
       "      <td>0.045588</td>\n",
       "      <td>0.560305</td>\n",
       "      <td>0.774234</td>\n",
       "      <td>0.113279</td>\n",
       "      <td>0.788896</td>\n",
       "      <td>0.914348</td>\n",
       "      <td>...</td>\n",
       "      <td>0.079417</td>\n",
       "      <td>0.003508</td>\n",
       "      <td>0.004635</td>\n",
       "      <td>0.041357</td>\n",
       "      <td>0.024015</td>\n",
       "      <td>0.058990</td>\n",
       "      <td>0.016854</td>\n",
       "      <td>0.296456</td>\n",
       "      <td>0.703291</td>\n",
       "      <td>0.703523</td>\n",
       "    </tr>\n",
       "    <tr>\n",
       "      <th>X1004</th>\n",
       "      <td>0.871313</td>\n",
       "      <td>0.466692</td>\n",
       "      <td>0.076666</td>\n",
       "      <td>0.253624</td>\n",
       "      <td>0.032824</td>\n",
       "      <td>0.509904</td>\n",
       "      <td>0.772503</td>\n",
       "      <td>0.067163</td>\n",
       "      <td>0.800081</td>\n",
       "      <td>0.882308</td>\n",
       "      <td>...</td>\n",
       "      <td>0.080837</td>\n",
       "      <td>0.005296</td>\n",
       "      <td>0.006407</td>\n",
       "      <td>0.041691</td>\n",
       "      <td>0.030413</td>\n",
       "      <td>0.064237</td>\n",
       "      <td>0.019278</td>\n",
       "      <td>0.270818</td>\n",
       "      <td>0.751772</td>\n",
       "      <td>0.696888</td>\n",
       "    </tr>\n",
       "    <tr>\n",
       "      <th>X1005</th>\n",
       "      <td>0.775703</td>\n",
       "      <td>0.490255</td>\n",
       "      <td>0.079986</td>\n",
       "      <td>0.220404</td>\n",
       "      <td>0.035804</td>\n",
       "      <td>0.549847</td>\n",
       "      <td>0.730345</td>\n",
       "      <td>0.131637</td>\n",
       "      <td>0.759171</td>\n",
       "      <td>0.902783</td>\n",
       "      <td>...</td>\n",
       "      <td>0.084922</td>\n",
       "      <td>0.016451</td>\n",
       "      <td>0.007065</td>\n",
       "      <td>0.060183</td>\n",
       "      <td>0.015760</td>\n",
       "      <td>0.064953</td>\n",
       "      <td>0.016097</td>\n",
       "      <td>0.236963</td>\n",
       "      <td>0.746697</td>\n",
       "      <td>0.693056</td>\n",
       "    </tr>\n",
       "  </tbody>\n",
       "</table>\n",
       "<p>5 rows × 473034 columns</p>\n",
       "</div>"
      ],
      "text/plain": [
       "ID_REF  cg13869341  cg14008030  cg12045430  cg20826792  cg00381604  \\\n",
       "X1001     0.849261    0.505916    0.072590    0.186961    0.036803   \n",
       "X1002     0.897434    0.476842    0.079020    0.228201    0.053161   \n",
       "X1003     0.751596    0.487245    0.089230    0.237660    0.045588   \n",
       "X1004     0.871313    0.466692    0.076666    0.253624    0.032824   \n",
       "X1005     0.775703    0.490255    0.079986    0.220404    0.035804   \n",
       "\n",
       "ID_REF  cg20253340  cg21870274  cg03130891  cg24335620  cg16162899  ...  \\\n",
       "X1001     0.661391    0.777891    0.119538    0.782193    0.905126  ...   \n",
       "X1002     0.545065    0.776407    0.063938    0.787890    0.913628  ...   \n",
       "X1003     0.560305    0.774234    0.113279    0.788896    0.914348  ...   \n",
       "X1004     0.509904    0.772503    0.067163    0.800081    0.882308  ...   \n",
       "X1005     0.549847    0.730345    0.131637    0.759171    0.902783  ...   \n",
       "\n",
       "ID_REF  cg27124406  cg19565306  cg22012975  cg10353737  cg22531257  \\\n",
       "X1001     0.079514    0.003605    0.016267    0.058144    0.016545   \n",
       "X1002     0.080328    0.004043    0.008628    0.044876    0.014927   \n",
       "X1003     0.079417    0.003508    0.004635    0.041357    0.024015   \n",
       "X1004     0.080837    0.005296    0.006407    0.041691    0.030413   \n",
       "X1005     0.084922    0.016451    0.007065    0.060183    0.015760   \n",
       "\n",
       "ID_REF  cg22662321  cg06996138  cg16817496  cg07660283  cg09226288  \n",
       "X1001     0.044135    0.021236    0.291702    0.727581    0.705499  \n",
       "X1002     0.058587    0.019314    0.232008    0.693993    0.716328  \n",
       "X1003     0.058990    0.016854    0.296456    0.703291    0.703523  \n",
       "X1004     0.064237    0.019278    0.270818    0.751772    0.696888  \n",
       "X1005     0.064953    0.016097    0.236963    0.746697    0.693056  \n",
       "\n",
       "[5 rows x 473034 columns]"
      ]
     },
     "execution_count": 5,
     "metadata": {},
     "output_type": "execute_result"
    }
   ],
   "source": [
    "df_data.head()"
   ]
  },
  {
   "cell_type": "code",
   "execution_count": 6,
   "id": "155b1154",
   "metadata": {},
   "outputs": [
    {
     "data": {
      "text/plain": [
       "<AxesSubplot:>"
      ]
     },
     "execution_count": 6,
     "metadata": {},
     "output_type": "execute_result"
    },
    {
     "data": {
      "image/png": "[encoded data removed]",
      "text/plain": [
       "<Figure size 432x288 with 1 Axes>"
      ]
     },
     "metadata": {
      "needs_background": "light"
     },
     "output_type": "display_data"
    }
   ],
   "source": [
    "df_meta['gender'].hist()"
   ]
  },
  {
   "cell_type": "code",
   "execution_count": 7,
   "id": "eb94414b",
   "metadata": {},
   "outputs": [
    {
     "data": {
      "text/plain": [
       "<AxesSubplot:>"
      ]
     },
     "execution_count": 7,
     "metadata": {},
     "output_type": "execute_result"
    },
    {
     "data": {
      "image/png": "[encoded data removed]",
      "text/plain": [
       "<Figure size 432x288 with 1 Axes>"
      ]
     },
     "metadata": {
      "needs_background": "light"
     },
     "output_type": "display_data"
    }
   ],
   "source": [
    "df_meta['ethnicity'].hist()"
   ]
  },
  {
   "cell_type": "code",
   "execution_count": 8,
   "id": "c5b7f04d",
   "metadata": {},
   "outputs": [
    {
     "data": {
      "text/plain": [
       "<AxesSubplot:>"
      ]
     },
     "execution_count": 8,
     "metadata": {},
     "output_type": "execute_result"
    },
    {
     "data": {
      "image/png": "[encoded data removed]",
      "text/plain": [
       "<Figure size 432x288 with 1 Axes>"
      ]
     },
     "metadata": {
      "needs_background": "light"
     },
     "output_type": "display_data"
    }
   ],
   "source": [
    "df_meta['age'].plot(kind='box')"
   ]
  },
  {
   "cell_type": "code",
   "execution_count": 37,
   "id": "3384009f",
   "metadata": {},
   "outputs": [],
   "source": [
    "import numpy as np\n",
    "X, y = df_data.values, df_meta['age']\n",
    "# create a mask to filter out by gender\n",
    "mask_gender = np.array([True if x == ' F' else False for x in df_meta['gender'].values])\n",
    "# create a mask to filter out by ethnicity\n",
    "mask_ethnicity = np.array([True if x == 'H' else False for x in df_meta['ethnicity'].values])\n",
    "# shuffle the datasets\n",
    "from sklearn.utils import shuffle\n",
    "X, y, mask_gender, mask_ethnicity = shuffle(X, y, mask_gender, mask_ethnicity, random_state=0)"
   ]
  },
  {
   "cell_type": "code",
   "execution_count": 54,
   "id": "b2d99279",
   "metadata": {},
   "outputs": [],
   "source": [
    "# create male and female datasets by applying the mask_gender on X and y\n",
    "X_female, y_female = X[mask_gender.astype(bool)], y[mask_gender.astype(bool)]\n",
    "X_male, y_male = X[np.logical_not(mask_gender.astype(bool))], y[np.logical_not(mask_gender.astype(bool))]\n",
    "X_hispanic, y_hispanic = X[mask_ethnicity.astype(bool)], y[mask_ethnicity.astype(bool)]\n",
    "X_non_hispanic, y_non_hispanic = X[np.logical_not(mask_ethnicity.astype(bool))], y[np.logical_not(mask_ethnicity.astype(bool))]"
   ]
  },
  {
   "cell_type": "code",
   "execution_count": 56,
   "id": "24596c51",
   "metadata": {},
   "outputs": [
    {
     "name": "stdout",
     "output_type": "stream",
     "text": [
      "(338, 473034)\n",
      "(318, 473034)\n",
      "(230, 473034)\n",
      "(426, 473034)\n"
     ]
    }
   ],
   "source": [
    "print(X_female.shape)\n",
    "print(X_male.shape)\n",
    "assert(X.shape[0] == X_female.shape[0]+X_male.shape[0])\n",
    "print(X_hispanic.shape)\n",
    "print(X_non_hispanic.shape)\n",
    "assert(X.shape[0] == X_hispanic.shape[0]+X_non_hispanic.shape[0])"
   ]
  },
  {
   "cell_type": "code",
   "execution_count": 43,
   "id": "1c53b088",
   "metadata": {},
   "outputs": [],
   "source": [
    "X_diff = abs(X-X.mean(axis=0))"
   ]
  },
  {
   "cell_type": "code",
   "execution_count": 15,
   "id": "1e1894ba",
   "metadata": {},
   "outputs": [
    {
     "data": {
      "text/plain": [
       "array([[0.03509579, 0.05319805, 0.00499955, ..., 0.00545188, 0.03018119,\n",
       "        0.10865558],\n",
       "       [0.01278621, 0.00143635, 0.03675582, ..., 0.00206888, 0.02041741,\n",
       "        0.02325492],\n",
       "       [0.03299221, 0.04342475, 0.03475601, ..., 0.06766508, 0.01025029,\n",
       "        0.01552348],\n",
       "       ...,\n",
       "       [0.04277409, 0.03623185, 0.01811438, ..., 0.06674302, 0.04206441,\n",
       "        0.01297662],\n",
       "       [0.06298099, 0.04029645, 0.01758758, ..., 0.05241522, 0.03121011,\n",
       "        0.02872152],\n",
       "       [0.06161741, 0.03463245, 0.00056961, ..., 0.04055172, 0.03316209,\n",
       "        0.01001478]])"
      ]
     },
     "execution_count": 15,
     "metadata": {},
     "output_type": "execute_result"
    }
   ],
   "source": [
    "X_diff"
   ]
  },
  {
   "cell_type": "code",
   "execution_count": 20,
   "id": "1aa318ad",
   "metadata": {},
   "outputs": [
    {
     "name": "stdout",
     "output_type": "stream",
     "text": [
      "0.3294036035408146\n"
     ]
    },
    {
     "data": {
      "text/plain": [
       "((656, 20), (656,))"
      ]
     },
     "execution_count": 20,
     "metadata": {},
     "output_type": "execute_result"
    }
   ],
   "source": [
    "# use PCA to reduce the dimensionality of the data\n",
    "from sklearn.decomposition import PCA\n",
    "pca = PCA(n_components=20)\n",
    "pca.fit(X)\n",
    "print(sum(pca.explained_variance_ratio_))\n",
    "X_pca = pca.transform(X)\n",
    "X_pca.shape, y.shape\n"
   ]
  },
  {
   "cell_type": "code",
   "execution_count": 22,
   "id": "0ac5e46c",
   "metadata": {},
   "outputs": [
    {
     "name": "stderr",
     "output_type": "stream",
     "text": [
      "c:\\Users\\nyiri\\anaconda3\\lib\\site-packages\\sklearn\\decomposition\\_fastica.py:488: FutureWarning: From version 1.3 whiten='unit-variance' will be used by default.\n",
      "  warnings.warn(\n"
     ]
    },
    {
     "data": {
      "text/plain": [
       "((656, 100), (656,))"
      ]
     },
     "execution_count": 22,
     "metadata": {},
     "output_type": "execute_result"
    }
   ],
   "source": [
    "from sklearn.decomposition import FastICA\n",
    "ica = FastICA(n_components=100, random_state=0)\n",
    "ica.fit(X)\n",
    "X_ica = ica.transform(X)\n",
    "X_ica.shape, y.shape"
   ]
  },
  {
   "cell_type": "code",
   "execution_count": 17,
   "id": "e004fa68",
   "metadata": {},
   "outputs": [],
   "source": [
    "from sklearn.linear_model import LinearRegression\n",
    "from sklearn.linear_model import Ridge\n",
    "from sklearn.linear_model import Lasso\n",
    "from sklearn.linear_model import ElasticNet\n",
    "from sklearn.svm import SVR\n",
    "from sklearn.metrics import mean_absolute_error, mean_squared_error, r2_score\n",
    "from sklearn.ensemble import RandomForestRegressor\n",
    "from sklearn.model_selection import cross_val_score\n",
    "\n",
    "def try_algos(X, y):\n",
    "    for model in (LinearRegression(),Ridge(),Lasso(),ElasticNet()):\n",
    "        score = cross_val_score(model, X, y, cv=10, scoring='neg_mean_absolute_error').mean()\n",
    "        print(f'{model.__class__} score: {score}')\n",
    "\n",
    "def try_algo_slow(X, y):\n",
    "    for model in (SVR(), RandomForestRegressor()):\n",
    "        score = cross_val_score(model, X, y, cv=10, scoring='neg_mean_absolute_error').mean()\n",
    "        print(f'{model.__class__} score: {score}')"
   ]
  },
  {
   "cell_type": "code",
   "execution_count": 16,
   "id": "b05aa4c2",
   "metadata": {},
   "outputs": [
    {
     "name": "stdout",
     "output_type": "stream",
     "text": [
      "<class 'sklearn.linear_model._base.LinearRegression'> score: -8.325895947155487\n",
      "<class 'sklearn.linear_model._ridge.Ridge'> score: -8.329538037930693\n",
      "<class 'sklearn.linear_model._coordinate_descent.Lasso'> score: -11.938908576295653\n",
      "<class 'sklearn.linear_model._coordinate_descent.ElasticNet'> score: -11.933418232754981\n"
     ]
    }
   ],
   "source": [
    "try_algos(X_diff, y)"
   ]
  },
  {
   "cell_type": "code",
   "execution_count": 13,
   "id": "9267ba00",
   "metadata": {},
   "outputs": [
    {
     "name": "stdout",
     "output_type": "stream",
     "text": [
      "<class 'sklearn.linear_model._base.LinearRegression'> score: -4.804712752973408\n",
      "<class 'sklearn.linear_model._ridge.Ridge'> score: -4.806817811704396\n",
      "<class 'sklearn.linear_model._coordinate_descent.Lasso'> score: -9.633317159389955\n",
      "<class 'sklearn.linear_model._coordinate_descent.ElasticNet'> score: -10.362261691040047\n"
     ]
    }
   ],
   "source": [
    "try_algos(X, y)"
   ]
  },
  {
   "cell_type": "code",
   "execution_count": 54,
   "id": "89577589",
   "metadata": {},
   "outputs": [
    {
     "name": "stdout",
     "output_type": "stream",
     "text": [
      "<class 'sklearn.linear_model._base.LinearRegression'> score: -6.408264765894716\n",
      "<class 'sklearn.linear_model._ridge.Ridge'> score: -6.3564342514911285\n",
      "<class 'sklearn.linear_model._coordinate_descent.Lasso'> score: -6.0587119099139555\n",
      "<class 'sklearn.linear_model._coordinate_descent.ElasticNet'> score: -5.461326230620002\n"
     ]
    }
   ],
   "source": [
    "try_algos(X_pca, y)"
   ]
  },
  {
   "cell_type": "code",
   "execution_count": 53,
   "id": "79097e42",
   "metadata": {},
   "outputs": [
    {
     "name": "stdout",
     "output_type": "stream",
     "text": [
      "<class 'sklearn.linear_model._base.LinearRegression'> score: -6.640007356904356\n",
      "<class 'sklearn.linear_model._ridge.Ridge'> score: -7.866463238075053\n",
      "<class 'sklearn.linear_model._coordinate_descent.Lasso'> score: -11.938908576295653\n",
      "<class 'sklearn.linear_model._coordinate_descent.ElasticNet'> score: -11.938908576295653\n"
     ]
    }
   ],
   "source": [
    "try_algos(X_ica, y)"
   ]
  },
  {
   "cell_type": "code",
   "execution_count": 23,
   "id": "6ca3cca8",
   "metadata": {},
   "outputs": [
    {
     "name": "stdout",
     "output_type": "stream",
     "text": [
      "<class 'sklearn.svm._classes.SVR'> score: -9.17341652450538\n",
      "<class 'sklearn.ensemble._forest.RandomForestRegressor'> score: -8.275579487179488\n"
     ]
    }
   ],
   "source": [
    "try_algo_slow(X_ica, y)"
   ]
  },
  {
   "cell_type": "code",
   "execution_count": 57,
   "id": "0bb2d103",
   "metadata": {},
   "outputs": [
    {
     "name": "stdout",
     "output_type": "stream",
     "text": [
      "<class 'sklearn.linear_model._base.LinearRegression'> score: -5.889174574769078\n",
      "<class 'sklearn.linear_model._ridge.Ridge'> score: -5.891804343641816\n",
      "<class 'sklearn.linear_model._coordinate_descent.Lasso'> score: -8.244990652234828\n",
      "<class 'sklearn.linear_model._coordinate_descent.ElasticNet'> score: -8.587478495925307\n"
     ]
    }
   ],
   "source": [
    "try_algos(X_hispanic, y_hispanic)"
   ]
  },
  {
   "cell_type": "code",
   "execution_count": 58,
   "id": "f5877b5f",
   "metadata": {},
   "outputs": [
    {
     "name": "stdout",
     "output_type": "stream",
     "text": [
      "<class 'sklearn.linear_model._base.LinearRegression'> score: -5.498500924966136\n",
      "<class 'sklearn.linear_model._ridge.Ridge'> score: -5.500734390450178\n",
      "<class 'sklearn.linear_model._coordinate_descent.Lasso'> score: -9.995304197446256\n",
      "<class 'sklearn.linear_model._coordinate_descent.ElasticNet'> score: -10.346673224113125\n"
     ]
    }
   ],
   "source": [
    "try_algos(X_non_hispanic, y_non_hispanic)"
   ]
  }
 ],
 "metadata": {
  "kernelspec": {
   "display_name": "Python 3.8.13 ('base')",
   "language": "python",
   "name": "python3"
  },
  "language_info": {
   "codemirror_mode": {
    "name": "ipython",
    "version": 3
   },
   "file_extension": ".py",
   "mimetype": "text/x-python",
   "name": "python",
   "nbconvert_exporter": "python",
   "pygments_lexer": "ipython3",
   "version": "3.8.13"
  },
  "vscode": {
   "interpreter": {
    "hash": "dfdbd36146e375d5bcb8f9b317988285038a3771973a9336cd3003a72f79005b"
   }
  }
 },
 "nbformat": 4,
 "nbformat_minor": 5
}
